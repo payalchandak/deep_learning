{
 "cells": [
  {
   "cell_type": "markdown",
   "metadata": {},
   "source": [
    "# Make your own Neural Network"
   ]
  },
  {
   "cell_type": "code",
   "execution_count": 55,
   "metadata": {
    "ExecuteTime": {
     "end_time": "2018-08-08T15:13:06.384802Z",
     "start_time": "2018-08-08T15:13:06.366884Z"
    },
    "code_folding": []
   },
   "outputs": [],
   "source": [
    "#imports \n",
    "import multiprocessing\n",
    "import re\n",
    "from collections import Counter\n",
    "\n",
    "import feather\n",
    "import matplotlib as mpt\n",
    "import matplotlib.pyplot as plt\n",
    "import numpy as np\n",
    "import pandas as pd\n",
    "import plotly.graph_objs as go\n",
    "import plotly.plotly as py\n",
    "import scipy as sc\n",
    "import seaborn as sns\n",
    "from jupyterthemes import jtplot\n",
    "from sklearn.decomposition import PCA\n",
    "from sklearn.preprocessing import StandardScaler\n",
    "\n",
    "jtplot.style(\n",
    "    theme='grade3',\n",
    "    context='paper',\n",
    "    fscale=1.4,\n",
    "    spines=True,\n",
    "    gridlines='--',\n",
    "    ticks=True,\n",
    "    grid=False,\n",
    "    figsize=(6, 4.5))\n",
    "\n",
    "#mpt.rcParams\n",
    "\n",
    "%matplotlib inline\n",
    "%config InlineBackend.figure_format = 'retina'\n",
    "\n",
    "ROOT = \"/Users/payalchandak/Not On Dropbox/Data/Neural Net Trial/\""
   ]
  },
  {
   "cell_type": "code",
   "execution_count": 50,
   "metadata": {
    "ExecuteTime": {
     "end_time": "2018-08-08T12:53:28.317918Z",
     "start_time": "2018-08-08T12:53:28.308048Z"
    },
    "code_folding": [
     0,
     1,
     11,
     31
    ]
   },
   "outputs": [],
   "source": [
    "class neuralNetwork:\n",
    "    def __init__(self, inputnodes, hiddennodes, outputnodes, learningrate):\n",
    "        self.inodes = inputnodes\n",
    "        self.hnodes = hiddennodes\n",
    "        self.onodes = outputnodes\n",
    "        self.wih = (np.random.rand(self.hnodes, self.inodes) * 0.5)\n",
    "        self.who = (np.random.rand(self.onodes, self.hnodes) * 0.5)\n",
    "        self.lr = learningrate\n",
    "        self.activation_fn = lambda x: sc.special.expit(x)\n",
    "        pass\n",
    "\n",
    "    def train(self, ls_input, ls_target):\n",
    "        \n",
    "        inputs = np.array(ls_input, ndmin=2).T\n",
    "        targets = np.array(ls_target, ndmin=2).T\n",
    "        \n",
    "        #signal from hidden layer\n",
    "        hidden_outputs = self.activation_fn(np.dot(self.wih, inputs))\n",
    "\n",
    "        #signal from output layer\n",
    "        final_outputs = self.activation_fn(np.dot(self.who, hidden_outputs))\n",
    "\n",
    "        output_error = targets - final_outputs\n",
    "        hidden_errors = numpy.dot(self.who.T, output_errors)\n",
    "        \n",
    "        \n",
    "        self.who += self.lr * np.dot((output_errors * final_outputs * (1 - final_outputs)), np.transpose(hidden_outputs))        \n",
    "        self.wih += self.lr * np.dot((hidden_errors * hidden_outputs * (1 - hidden_outputs)), np.transpose(inputs))        \n",
    "        \n",
    "        pass\n",
    "\n",
    "    def query(self, ls_input):\n",
    "        \n",
    "        inputs = np.array(ls_input, ndmin=2).T\n",
    "\n",
    "        #signal from hidden layer\n",
    "        hidden_outputs = self.activation_fn(np.dot(self.wih, inputs))\n",
    "\n",
    "        #signal from output layer\n",
    "        final_outputs = self.activation_fn(np.dot(self.who, hidden_outputs))\n",
    "\n",
    "        return final_outputs"
   ]
  },
  {
   "cell_type": "code",
   "execution_count": 75,
   "metadata": {
    "ExecuteTime": {
     "end_time": "2018-08-08T16:01:04.571990Z",
     "start_time": "2018-08-08T16:01:04.568008Z"
    }
   },
   "outputs": [],
   "source": [
    "INPUT_NODES = 784\n",
    "HIDDEN_NODES = 100\n",
    "OUTPUT_NODES = 10\n",
    "LEARNING_RATE = 0.3\n",
    "\n",
    "n = neuralNetwork(INPUT_NODES, HIDDEN_NODES, OUTPUT_NODES, LEARNING_RATE)"
   ]
  },
  {
   "cell_type": "code",
   "execution_count": 80,
   "metadata": {
    "ExecuteTime": {
     "end_time": "2018-08-08T16:03:52.648106Z",
     "start_time": "2018-08-08T16:03:52.519211Z"
    }
   },
   "outputs": [],
   "source": [
    "training_data_file = open(ROOT+\"/mnist_train.csv\", 'r')\n",
    "training_data_list = training_data_file.readlines()\n",
    "training_data_file.close()"
   ]
  },
  {
   "cell_type": "code",
   "execution_count": null,
   "metadata": {},
   "outputs": [],
   "source": [
    "# go through all records in the training data set\n",
    "for record in training_data_list:\n",
    "    # split the record by the ',' commas\n",
    "    all_values = record.split(',')\n",
    "    label which is 0.99)\n",
    "    targets = numpy.zeros(output_nodes) + 0.01\n",
    "    # all_values[0] is the target label for this record\n",
    "    targets[int(all_values[0])] = 0.99\n",
    "    n.train(inputs, targets)\n",
    "    pass"
   ]
  },
  {
   "cell_type": "code",
   "execution_count": null,
   "metadata": {},
   "outputs": [],
   "source": [
    "test_data_file = open(ROOT+\"/mnist_train.csv\", 'r')\n",
    "test_data_list = test_data_file.readlines()\n",
    "test_data_file.close()"
   ]
  },
  {
   "cell_type": "code",
   "execution_count": null,
   "metadata": {},
   "outputs": [],
   "source": []
  },
  {
   "cell_type": "code",
   "execution_count": null,
   "metadata": {},
   "outputs": [],
   "source": []
  },
  {
   "cell_type": "code",
   "execution_count": null,
   "metadata": {},
   "outputs": [],
   "source": []
  },
  {
   "cell_type": "code",
   "execution_count": null,
   "metadata": {},
   "outputs": [],
   "source": []
  },
  {
   "cell_type": "code",
   "execution_count": null,
   "metadata": {},
   "outputs": [],
   "source": []
  },
  {
   "cell_type": "code",
   "execution_count": 69,
   "metadata": {
    "ExecuteTime": {
     "end_time": "2018-08-08T15:34:17.274493Z",
     "start_time": "2018-08-08T15:34:17.155816Z"
    }
   },
   "outputs": [
    {
     "data": {
      "image/png": "[encoded data removed]",
      "text/plain": [
       "<Figure size 432x288 with 1 Axes>"
      ]
     },
     "metadata": {
      "image/png": {
       "height": 260,
       "width": 262
      }
     },
     "output_type": "display_data"
    }
   ],
   "source": [
    "n = 0 \n",
    "all_values = data_list[n].split(',')\n",
    "image_array = np.asfarray(all_values[1:]).reshape((28,28))\n",
    "plt.imshow(image_array,cmap='Greys',interpolation='None')\n",
    "plt.show()"
   ]
  },
  {
   "cell_type": "code",
   "execution_count": 77,
   "metadata": {
    "ExecuteTime": {
     "end_time": "2018-08-08T16:01:41.891029Z",
     "start_time": "2018-08-08T16:01:41.886630Z"
    }
   },
   "outputs": [],
   "source": [
    "scaled_input = (np.asfarray(all_values[1:]) / 255.0 * 0.99) + 0.01"
   ]
  },
  {
   "cell_type": "code",
   "execution_count": null,
   "metadata": {},
   "outputs": [],
   "source": []
  },
  {
   "cell_type": "code",
   "execution_count": null,
   "metadata": {},
   "outputs": [],
   "source": []
  },
  {
   "cell_type": "code",
   "execution_count": null,
   "metadata": {},
   "outputs": [],
   "source": []
  }
 ],
 "metadata": {
  "kernelspec": {
   "display_name": "Python 3",
   "language": "python",
   "name": "python3"
  },
  "language_info": {
   "codemirror_mode": {
    "name": "ipython",
    "version": 3
   },
   "file_extension": ".py",
   "mimetype": "text/x-python",
   "name": "python",
   "nbconvert_exporter": "python",
   "pygments_lexer": "ipython3",
   "version": "3.6.5"
  },
  "toc": {
   "base_numbering": 1,
   "nav_menu": {},
   "number_sections": false,
   "sideBar": true,
   "skip_h1_title": false,
   "title_cell": "Table of Contents",
   "title_sidebar": "Contents",
   "toc_cell": false,
   "toc_position": {},
   "toc_section_display": true,
   "toc_window_display": false
  }
 },
 "nbformat": 4,
 "nbformat_minor": 2
}
