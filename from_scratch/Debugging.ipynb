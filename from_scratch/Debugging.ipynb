{
 "cells": [
  {
   "cell_type": "code",
   "execution_count": 1,
   "metadata": {},
   "outputs": [],
   "source": [
    "import numpy as np\n",
    "import scipy.special \n",
    "import matplotlib.pyplot as plt\n",
    "from NN import NN_Classifier"
   ]
  },
  {
   "cell_type": "code",
   "execution_count": 12,
   "metadata": {},
   "outputs": [],
   "source": [
    "self = NN_Classifier([3, 3, 3], 0.3)"
   ]
  },
  {
   "cell_type": "code",
   "execution_count": 109,
   "metadata": {},
   "outputs": [],
   "source": [
    "self.weights[(0,1)] = np.zeros(self.weights[(0,1)].shape)+3\n",
    "self.weights[(1,2)] = np.zeros(self.weights[(1,2)].shape)+4"
   ]
  },
  {
   "cell_type": "code",
   "execution_count": 23,
   "metadata": {},
   "outputs": [],
   "source": [
    "data = [1,2,3]"
   ]
  },
  {
   "cell_type": "code",
   "execution_count": 24,
   "metadata": {},
   "outputs": [],
   "source": [
    "self.nodes[0] = np.array(data, ndmin=2).reshape(self.nodes[0].shape)\n",
    "for i in range(self.out):\n",
    "    self.nodes[i+1] = np.dot(self.weights[(i,i+1)],self.nodes[i])\n",
    "    if(i+1<self.out):\n",
    "        self.nodes[i+1] = self.sigmoid(self.nodes[i+1])\n",
    "    else:\n",
    "        self.nodes[i+1] = self.softmax(self.nodes[i+1])"
   ]
  },
  {
   "cell_type": "code",
   "execution_count": 28,
   "metadata": {},
   "outputs": [
    {
     "name": "stdout",
     "output_type": "stream",
     "text": [
      "{0: array([[1],\n",
      "       [2],\n",
      "       [3]]), 1: array([[0.99999998],\n",
      "       [0.99999998],\n",
      "       [0.99999998]]), 2: array([[0.33333333],\n",
      "       [0.33333333],\n",
      "       [0.33333333]])}\n",
      "{(0, 1): array([[3., 3., 3.],\n",
      "       [3., 3., 3.],\n",
      "       [3., 3., 3.]]), (1, 2): array([[4., 4., 4.],\n",
      "       [4., 4., 4.],\n",
      "       [4., 4., 4.]])}\n",
      "{1: array([[0.],\n",
      "       [0.],\n",
      "       [0.]]), 2: array([[0.],\n",
      "       [0.],\n",
      "       [0.]])}\n"
     ]
    }
   ],
   "source": [
    "print(self.nodes)\n",
    "print(self.weights)\n",
    "print(self.err)"
   ]
  },
  {
   "cell_type": "code",
   "execution_count": 30,
   "metadata": {},
   "outputs": [
    {
     "name": "stdout",
     "output_type": "stream",
     "text": [
      "{1: array([[0.],\n",
      "       [0.],\n",
      "       [0.]]), 2: array([[0.11111111],\n",
      "       [0.11111111],\n",
      "       [0.44444444]])}\n"
     ]
    }
   ],
   "source": [
    "self.set_loss([0,0,1]); print(self.err)"
   ]
  },
  {
   "cell_type": "code",
   "execution_count": 33,
   "metadata": {},
   "outputs": [
    {
     "name": "stdout",
     "output_type": "stream",
     "text": [
      "{1: array([[2.66666667],\n",
      "       [2.66666667],\n",
      "       [2.66666667]]), 2: array([[0.11111111],\n",
      "       [0.11111111],\n",
      "       [0.44444444]])}\n"
     ]
    }
   ],
   "source": [
    "for i in range(self.out-1,0,-1):\n",
    "            self.err[i] = np.dot(self.weights[(i,i+1)].T, self.err[i+1])\n",
    "print(self.err)"
   ]
  },
  {
   "cell_type": "code",
   "execution_count": 75,
   "metadata": {},
   "outputs": [
    {
     "data": {
      "text/plain": [
       "{(0, 1): array([[3., 3., 3.],\n",
       "        [3., 3., 3.],\n",
       "        [3., 3., 3.]]), (1, 2): array([[4., 4., 4.],\n",
       "        [4., 4., 4.],\n",
       "        [4., 4., 4.]])}"
      ]
     },
     "execution_count": 75,
     "metadata": {},
     "output_type": "execute_result"
    }
   ],
   "source": [
    "self.weights"
   ]
  },
  {
   "cell_type": "code",
   "execution_count": 96,
   "metadata": {},
   "outputs": [],
   "source": [
    "for i in range(self.out):\n",
    "    delta = -1 * np.dot( (self.err[i+1]*self.nodes[i+1]*(1-self.nodes[i+1])),  self.nodes[i].T)    \n",
    "    self.weights[(i,i+1)] -= self.lr * delta"
   ]
  },
  {
   "cell_type": "code",
   "execution_count": 97,
   "metadata": {},
   "outputs": [
    {
     "data": {
      "text/plain": [
       "{(0, 1): array([[3.00000001, 3.00000002, 3.00000004],\n",
       "        [3.00000001, 3.00000002, 3.00000004],\n",
       "        [3.00000001, 3.00000002, 3.00000004]]),\n",
       " (1, 2): array([[4.00740741, 4.00740741, 4.00740741],\n",
       "        [4.00740741, 4.00740741, 4.00740741],\n",
       "        [4.02962963, 4.02962963, 4.02962963]])}"
      ]
     },
     "execution_count": 97,
     "metadata": {},
     "output_type": "execute_result"
    }
   ],
   "source": [
    "self.weights"
   ]
  },
  {
   "cell_type": "code",
   "execution_count": 116,
   "metadata": {},
   "outputs": [],
   "source": [
    "i=1"
   ]
  },
  {
   "cell_type": "code",
   "execution_count": 117,
   "metadata": {},
   "outputs": [
    {
     "data": {
      "text/plain": [
       "array([[0.02469136],\n",
       "       [0.02469136],\n",
       "       [0.09876543]])"
      ]
     },
     "execution_count": 117,
     "metadata": {},
     "output_type": "execute_result"
    }
   ],
   "source": [
    "self.err[i+1]*self.nodes[i+1]*(1-self.nodes[i+1])"
   ]
  },
  {
   "cell_type": "code",
   "execution_count": 118,
   "metadata": {},
   "outputs": [],
   "source": [
    "delta = (-1)* np.dot( (self.err[i+1]*self.nodes[i+1]*(1-self.nodes[i+1])),  self.nodes[i].T) "
   ]
  },
  {
   "cell_type": "code",
   "execution_count": 119,
   "metadata": {},
   "outputs": [
    {
     "data": {
      "text/plain": [
       "array([[-0.00740741, -0.00740741, -0.00740741],\n",
       "       [-0.00740741, -0.00740741, -0.00740741],\n",
       "       [-0.02962963, -0.02962963, -0.02962963]])"
      ]
     },
     "execution_count": 119,
     "metadata": {},
     "output_type": "execute_result"
    }
   ],
   "source": [
    "self.lr * delta"
   ]
  },
  {
   "cell_type": "code",
   "execution_count": 120,
   "metadata": {},
   "outputs": [],
   "source": [
    "self.weights[(i,i+1)] -= self.lr * delta"
   ]
  },
  {
   "cell_type": "code",
   "execution_count": 121,
   "metadata": {},
   "outputs": [
    {
     "data": {
      "text/plain": [
       "{(0, 1): array([[2.99999999, 2.99999998, 2.99999996],\n",
       "        [2.99999999, 2.99999998, 2.99999996],\n",
       "        [2.99999999, 2.99999998, 2.99999996]]),\n",
       " (1, 2): array([[3.99259259, 3.99259259, 3.99259259],\n",
       "        [3.99259259, 3.99259259, 3.99259259],\n",
       "        [3.97037037, 3.97037037, 3.97037037]])}"
      ]
     },
     "execution_count": 121,
     "metadata": {},
     "output_type": "execute_result"
    }
   ],
   "source": [
    "self.weights"
   ]
  },
  {
   "cell_type": "code",
   "execution_count": null,
   "metadata": {},
   "outputs": [],
   "source": []
  },
  {
   "cell_type": "code",
   "execution_count": null,
   "metadata": {},
   "outputs": [],
   "source": []
  }
 ],
 "metadata": {
  "kernelspec": {
   "display_name": "Python 3",
   "language": "python",
   "name": "python3"
  },
  "language_info": {
   "codemirror_mode": {
    "name": "ipython",
    "version": 3
   },
   "file_extension": ".py",
   "mimetype": "text/x-python",
   "name": "python",
   "nbconvert_exporter": "python",
   "pygments_lexer": "ipython3",
   "version": "3.6.5"
  }
 },
 "nbformat": 4,
 "nbformat_minor": 2
}
